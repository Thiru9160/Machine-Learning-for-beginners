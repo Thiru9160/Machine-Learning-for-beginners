{
  "nbformat": 4,
  "nbformat_minor": 0,
  "metadata": {
    "colab": {
      "provenance": []
    },
    "kernelspec": {
      "name": "python3",
      "display_name": "Python 3"
    },
    "language_info": {
      "name": "python"
    }
  },
  "cells": [
    {
      "cell_type": "code",
      "execution_count": 2,
      "metadata": {
        "id": "OZH6XQO7ZL_v"
      },
      "outputs": [],
      "source": [
        "'''Numpy:stands for numerical python.It is a python library used for working with arrays.It also provides functions for working in domain of linear algebra and matrices(2-d array).\n",
        "Efficiently handle multi-dimensional array.'''\n",
        "#importing library\n",
        "import numpy as np"
      ]
    },
    {
      "cell_type": "markdown",
      "source": [
        "creating arrays"
      ],
      "metadata": {
        "id": "Sa7YYvkPbNQY"
      }
    },
    {
      "cell_type": "code",
      "source": [
        "#1.from list or tuple using np.array()\n",
        "lists=[1,23,4,5]#mutable-update the values\n",
        "print(\"creating array from list:\")\n",
        "a=np.array(lists)#1-d array\n",
        "print(a)\n",
        "b=np.array([[1,2],[3,4]])#2-d\n",
        "print(b)\n",
        "#tuple---()\n",
        "print(\"creating array from tuple:\")\n",
        "tuples=(1,2,3,4)#immutable--can't update the value\n",
        "c=np.array(tuples)\n",
        "print(c)\n",
        "d=np.array([(1,2),(3,4)])\n",
        "print(d)\n"
      ],
      "metadata": {
        "colab": {
          "base_uri": "https://localhost:8080/"
        },
        "id": "Q_102U6Zaxpa",
        "outputId": "3b5d9a6b-c6fe-43c4-bf85-fe9935b47ca7"
      },
      "execution_count": 3,
      "outputs": [
        {
          "output_type": "stream",
          "name": "stdout",
          "text": [
            "creating array from list:\n",
            "[ 1 23  4  5]\n",
            "[[1 2]\n",
            " [3 4]]\n",
            "creating array from tuple:\n",
            "[1 2 3 4]\n",
            "[[1 2]\n",
            " [3 4]]\n"
          ]
        }
      ]
    },
    {
      "cell_type": "code",
      "source": [
        "#np.zeros()---array of all zeros\n",
        "np.zeros(6)\n",
        "np.zeros((2,2))#2x3 matrix of all zeros"
      ],
      "metadata": {
        "colab": {
          "base_uri": "https://localhost:8080/"
        },
        "id": "6oqqqpZBgC3r",
        "outputId": "071cec7c-8780-4e58-ae6c-6a3fa47f5623"
      },
      "execution_count": 4,
      "outputs": [
        {
          "output_type": "execute_result",
          "data": {
            "text/plain": [
              "array([[0., 0.],\n",
              "       [0., 0.]])"
            ]
          },
          "metadata": {},
          "execution_count": 4
        }
      ]
    },
    {
      "cell_type": "code",
      "source": [
        "np.ones(5)\n",
        "np.ones((3,3))"
      ],
      "metadata": {
        "colab": {
          "base_uri": "https://localhost:8080/"
        },
        "id": "6_ceBH4ShQj8",
        "outputId": "a5444726-1ef9-41c8-9176-c092e9ee04a5"
      },
      "execution_count": 5,
      "outputs": [
        {
          "output_type": "execute_result",
          "data": {
            "text/plain": [
              "array([[1., 1., 1.],\n",
              "       [1., 1., 1.],\n",
              "       [1., 1., 1.]])"
            ]
          },
          "metadata": {},
          "execution_count": 5
        }
      ]
    },
    {
      "cell_type": "code",
      "source": [
        "#np.full()\n",
        "np.full((2,3),6)"
      ],
      "metadata": {
        "colab": {
          "base_uri": "https://localhost:8080/"
        },
        "id": "U2ptgimThxOc",
        "outputId": "ac465915-5eb0-4efd-8af1-36c5eba59ba6"
      },
      "execution_count": 6,
      "outputs": [
        {
          "output_type": "execute_result",
          "data": {
            "text/plain": [
              "array([[7, 7, 7],\n",
              "       [7, 7, 7]])"
            ]
          },
          "metadata": {},
          "execution_count": 6
        }
      ]
    },
    {
      "cell_type": "code",
      "source": [
        "#np.arrange similar to range() in python\n",
        "np.arange(0,10,2)\n",
        "np.arange(5)"
      ],
      "metadata": {
        "colab": {
          "base_uri": "https://localhost:8080/"
        },
        "id": "dOyv2scAidKw",
        "outputId": "eb223691-9d3c-456b-8d64-3ef237f1906c"
      },
      "execution_count": 7,
      "outputs": [
        {
          "output_type": "execute_result",
          "data": {
            "text/plain": [
              "array([0, 1, 2, 3, 4])"
            ]
          },
          "metadata": {},
          "execution_count": 7
        }
      ]
    },
    {
      "cell_type": "code",
      "source": [
        "np.random.rand(16,16)#2x3 values[0,1]"
      ],
      "metadata": {
        "colab": {
          "base_uri": "https://localhost:8080/"
        },
        "id": "16JP1ZiCjfdo",
        "outputId": "c16dd1f5-a4b1-496c-9d1e-326ee6f53291"
      },
      "execution_count": 8,
      "outputs": [
        {
          "output_type": "execute_result",
          "data": {
            "text/plain": [
              "array([[0.8094241 , 0.98437313, 0.72429664, 0.45370876, 0.10840801,\n",
              "        0.30666284, 0.85876575, 0.43114541],\n",
              "       [0.35067345, 0.70836618, 0.10339207, 0.30140265, 0.61515676,\n",
              "        0.4989216 , 0.64624213, 0.65228896],\n",
              "       [0.97532764, 0.47090619, 0.10274119, 0.05372495, 0.56492895,\n",
              "        0.08354584, 0.56659491, 0.72333523],\n",
              "       [0.9711276 , 0.76286157, 0.34742343, 0.36108661, 0.75105495,\n",
              "        0.83303914, 0.16598117, 0.63852001],\n",
              "       [0.04694334, 0.96559199, 0.38953128, 0.10781338, 0.84471477,\n",
              "        0.97210236, 0.14887561, 0.87103556],\n",
              "       [0.03745928, 0.15065952, 0.34579585, 0.36912387, 0.80549743,\n",
              "        0.78624202, 0.91975773, 0.43650005],\n",
              "       [0.61572851, 0.05700442, 0.24552348, 0.8843484 , 0.14519296,\n",
              "        0.57453524, 0.40504118, 0.00974938],\n",
              "       [0.22255805, 0.45943757, 0.99107585, 0.94709863, 0.99745115,\n",
              "        0.38795709, 0.57636456, 0.74339503]])"
            ]
          },
          "metadata": {},
          "execution_count": 8
        }
      ]
    },
    {
      "cell_type": "markdown",
      "source": [
        "**Properties of numpy**"
      ],
      "metadata": {
        "id": "TRo9NEdqVOvg"
      }
    },
    {
      "cell_type": "code",
      "source": [
        "#properties: which tells us everything about the structure,shape,size and type of array\n",
        "arr=np.array([[10,20,30],[40,50,60]])\n",
        "print(arr)\n",
        "#1. ndim--number of dimensions\n",
        "print(arr.ndim)\n",
        "#2.shape--rows and columns in the form tuple\n",
        "print(arr.shape)\n",
        "#3.size--total number of values or elements\n",
        "print(arr.size)\n",
        "#4.dtype---data type of elements or values\n",
        "print(arr.dtype)\n",
        "#5.itemsize--size in bytes\n",
        "print(arr.itemsize)\n",
        "#6. nbytes--total size in bytes\n",
        "print(arr.nbytes)#6x8\n",
        "#7.T--transpose of the array\n",
        "print(arr.T)"
      ],
      "metadata": {
        "colab": {
          "base_uri": "https://localhost:8080/"
        },
        "id": "CDhOFP_2Y8KV",
        "outputId": "2815827f-e32b-4658-dc59-c7ef69029518"
      },
      "execution_count": 9,
      "outputs": [
        {
          "output_type": "stream",
          "name": "stdout",
          "text": [
            "[[10 20 30]\n",
            " [40 50 60]]\n",
            "2\n",
            "(2, 3)\n",
            "6\n",
            "int64\n",
            "8\n",
            "48\n",
            "[[10 40]\n",
            " [20 50]\n",
            " [30 60]]\n"
          ]
        }
      ]
    },
    {
      "cell_type": "markdown",
      "source": [
        "**Indexing and slicing**"
      ],
      "metadata": {
        "id": "v2QPBIKWZCJT"
      }
    },
    {
      "cell_type": "code",
      "source": [
        "a=np.array([10,20,30])\n",
        "print(a[0])#positive indexing\n",
        "print(a[-1])#negative indexing\n",
        "b=np.array([[1,2,3],[4,5,6]])\n",
        "print(b[0,1])\n",
        "print(b[1,0])#4"
      ],
      "metadata": {
        "colab": {
          "base_uri": "https://localhost:8080/"
        },
        "id": "aBnGr14_ZIXU",
        "outputId": "f5f31752-59f2-49a9-dfa0-8b363d172463"
      },
      "execution_count": 10,
      "outputs": [
        {
          "output_type": "stream",
          "name": "stdout",
          "text": [
            "10\n",
            "30\n",
            "2\n",
            "4\n"
          ]
        }
      ]
    },
    {
      "cell_type": "code",
      "source": [
        "#slicing --accessing subset\n",
        "a=np.array([10,20,30,40,50,60])\n",
        "print(a[1:4])\n",
        "print(a[:3])\n",
        "print(a[::3])\n",
        "b=np.array([[1,2,3],[4,5,6],[7,8,9]])\n",
        "print(b[1:3,0:2])\n",
        "print(\"****\")\n",
        "print(b[:,0])#all rows , column 0\n",
        "print(b[2,:])#row1"
      ],
      "metadata": {
        "colab": {
          "base_uri": "https://localhost:8080/"
        },
        "id": "yQYgZa_ubW8D",
        "outputId": "0c26b555-15af-4ab3-fae6-b3ef8b650284"
      },
      "execution_count": 11,
      "outputs": [
        {
          "output_type": "stream",
          "name": "stdout",
          "text": [
            "[20 30 40]\n",
            "[10 20 30]\n",
            "[10 40]\n",
            "[[4 5]\n",
            " [7 8]]\n",
            "****\n",
            "[1 4 7]\n",
            "[7 8 9]\n"
          ]
        }
      ]
    },
    {
      "cell_type": "markdown",
      "source": [
        "**Arithmetic operations**"
      ],
      "metadata": {
        "id": "Xx66Qwl-jeWs"
      }
    },
    {
      "cell_type": "code",
      "source": [
        "a=np.array([10,20,30])\n",
        "b=np.array([40,50,60])\n",
        "print(a+b)\n",
        "print(a-b)\n",
        "print(a*b)\n",
        "print(a/b)\n",
        "print(a-5)\n",
        "print(a<b)"
      ],
      "metadata": {
        "colab": {
          "base_uri": "https://localhost:8080/"
        },
        "id": "wEag5K6Xjinv",
        "outputId": "dd887f3d-86a0-458b-c1f0-889945b6538b"
      },
      "execution_count": 12,
      "outputs": [
        {
          "output_type": "stream",
          "name": "stdout",
          "text": [
            "[50 70 90]\n",
            "[-30 -30 -30]\n",
            "[ 400 1000 1800]\n",
            "[0.25 0.4  0.5 ]\n",
            "[ 5 15 25]\n",
            "[ True  True  True]\n"
          ]
        }
      ]
    },
    {
      "cell_type": "markdown",
      "source": [
        "**Aggregate Functions**"
      ],
      "metadata": {
        "id": "FCWgIp_KkSup"
      }
    },
    {
      "cell_type": "code",
      "source": [
        "#aggregate functions compute a single value from an array.\n",
        "from scipy import stats\n",
        "agg=np.array([[1,2,3],[4,5,6]])\n",
        "print(agg.sum())\n",
        "print(agg.min())\n",
        "print(agg.max())\n",
        "print(agg.mean())\n",
        "print(agg.std())#standard deviation\n",
        "print(agg.var())#variance\n",
        "medain_value=np.median(agg)\n",
        "print(medain_value)\n",
        "mode_array=np.array([1,2,2,3,4,4,4,5,5,5])\n",
        "mode_result=stats.mode(mode_array)\n",
        "print(mode_result)"
      ],
      "metadata": {
        "id": "SN-JBlvikXnK",
        "colab": {
          "base_uri": "https://localhost:8080/"
        },
        "outputId": "a340919b-feb0-40ac-ed00-b0903225b592"
      },
      "execution_count": 13,
      "outputs": [
        {
          "output_type": "stream",
          "name": "stdout",
          "text": [
            "21\n",
            "1\n",
            "6\n",
            "3.5\n",
            "1.707825127659933\n",
            "2.9166666666666665\n",
            "3.5\n",
            "ModeResult(mode=np.int64(4), count=np.int64(3))\n"
          ]
        }
      ]
    },
    {
      "cell_type": "markdown",
      "source": [
        "**Matrix operations**"
      ],
      "metadata": {
        "id": "v96GEQv7jPkT"
      }
    },
    {
      "cell_type": "code",
      "source": [
        "m1=np.array([[1,2],[3,4]])\n",
        "m2=np.array([[5,6],[7,8]])\n",
        "print(np.dot(m1,m2))#matrix multiplication\n",
        "print(m1.T)"
      ],
      "metadata": {
        "colab": {
          "base_uri": "https://localhost:8080/"
        },
        "id": "kLEcQny6jMmo",
        "outputId": "3e0af91c-6a98-42e4-dfff-227cc4c8285f"
      },
      "execution_count": 14,
      "outputs": [
        {
          "output_type": "stream",
          "name": "stdout",
          "text": [
            "[[19 22]\n",
            " [43 50]]\n",
            "[[1 3]\n",
            " [2 4]]\n"
          ]
        }
      ]
    },
    {
      "cell_type": "markdown",
      "source": [
        "**Broadcasting**"
      ],
      "metadata": {
        "id": "J-VBQzTso3P_"
      }
    },
    {
      "cell_type": "code",
      "source": [
        "#automatic expansion of smaller array to match with larger shape(array)\n",
        "b1=np.array([[1,2,3],[4,5,6]])#2-d\n",
        "b2=np.array([1,0,1])#1-d{1,0,1}\n",
        "\n",
        "print(b1+b2)"
      ],
      "metadata": {
        "colab": {
          "base_uri": "https://localhost:8080/"
        },
        "id": "baUhF6bCnI38",
        "outputId": "efe8a858-73b7-4b96-c17e-d664ee59bcad"
      },
      "execution_count": 15,
      "outputs": [
        {
          "output_type": "stream",
          "name": "stdout",
          "text": [
            "[[2 2 4]\n",
            " [5 5 7]]\n"
          ]
        }
      ]
    },
    {
      "cell_type": "markdown",
      "source": [
        "**Reshaping array**"
      ],
      "metadata": {
        "id": "NZj_Pp85o6Zg"
      }
    },
    {
      "cell_type": "code",
      "source": [
        "a=np.array([1,2,3,4,5,6])#1-d\n",
        "b=a.reshape((3,2))#3-rows,2-columns\n",
        "print(b)\n",
        "a1=np.array([10,20,30,40,50,60])#1-d\n",
        "b1=a1.reshape((-1,2))\n",
        "print(b1)\n"
      ],
      "metadata": {
        "colab": {
          "base_uri": "https://localhost:8080/"
        },
        "id": "5yIh9iBeo9ga",
        "outputId": "0500fecd-0c0e-4bc6-b002-7707c3c81de2"
      },
      "execution_count": 16,
      "outputs": [
        {
          "output_type": "stream",
          "name": "stdout",
          "text": [
            "[[1 2]\n",
            " [3 4]\n",
            " [5 6]]\n",
            "[[10 20]\n",
            " [30 40]\n",
            " [50 60]]\n"
          ]
        }
      ]
    },
    {
      "cell_type": "markdown",
      "source": [
        "**flattening an array**"
      ],
      "metadata": {
        "id": "f7GkMv0uqDDr"
      }
    },
    {
      "cell_type": "code",
      "source": [
        "a=np.array([[1,2],[3,4]])#2-d\n",
        "b=a.flatten()\n",
        "print(b)"
      ],
      "metadata": {
        "colab": {
          "base_uri": "https://localhost:8080/"
        },
        "id": "E0cDxgAXqGti",
        "outputId": "f30c3f7c-ae3d-4c82-96fc-2f7470359c33"
      },
      "execution_count": 17,
      "outputs": [
        {
          "output_type": "stream",
          "name": "stdout",
          "text": [
            "[1 2 3 4]\n"
          ]
        }
      ]
    },
    {
      "cell_type": "markdown",
      "source": [
        "**Stacking**"
      ],
      "metadata": {
        "id": "LV1DuOQKbIpc"
      }
    },
    {
      "cell_type": "code",
      "source": [
        "#stacking:combing multiple arrays into single array(combining the arrays)\n",
        "import numpy as np\n",
        "a=np.array([1,2,3])\n",
        "b=np.array([4,5,6])\n",
        "#np.vstack()-->row-wise\n",
        "v=np.vstack((a,b))\n",
        "print(v)\n",
        "#np.hstack()-->column-wise\n",
        "h=np.hstack((a,b))\n",
        "print(h)\n",
        "#np.stack\n",
        "c=np.stack((a,b),axis=0)#row-wise\n",
        "print(c)\n",
        "d=np.stack((a,b),axis=1)#column-wise\n",
        "print(d)\n"
      ],
      "metadata": {
        "colab": {
          "base_uri": "https://localhost:8080/"
        },
        "id": "o2NeZgMabDjU",
        "outputId": "1fad03f8-de81-4838-9be9-684e33e29836"
      },
      "execution_count": 21,
      "outputs": [
        {
          "output_type": "stream",
          "name": "stdout",
          "text": [
            "[[1 2 3]\n",
            " [4 5 6]]\n",
            "[1 2 3 4 5 6]\n",
            "[[1 2 3]\n",
            " [4 5 6]]\n",
            "[[1 4]\n",
            " [2 5]\n",
            " [3 6]]\n"
          ]
        }
      ]
    },
    {
      "cell_type": "markdown",
      "source": [
        "**Splitting arrays**"
      ],
      "metadata": {
        "id": "WTe1woxMdLF2"
      }
    },
    {
      "cell_type": "code",
      "source": [
        "#splitting arrays:breaking a single array into smaller ones\n",
        "x=np.array([[1,2,3,4,5,6]])\n",
        "#np.hsplit()-->column-wise\n",
        "hs=np.hsplit(x,3)\n",
        "print(hs)\n",
        "#np.vsplit()-->row-wsie\n",
        "y=np.array([[1,2,3],[4,5,6]])\n",
        "vs=np.vsplit(y,2) # Splitting into 2 sections along the row axis\n",
        "print(vs)"
      ],
      "metadata": {
        "colab": {
          "base_uri": "https://localhost:8080/"
        },
        "id": "2bgtBLW_dTWB",
        "outputId": "22b5e142-3245-4540-dbad-9f4fb5c89ef4"
      },
      "execution_count": 31,
      "outputs": [
        {
          "output_type": "stream",
          "name": "stdout",
          "text": [
            "[array([[1, 2]]), array([[3, 4]]), array([[5, 6]])]\n",
            "[array([[1, 2, 3]]), array([[4, 5, 6]])]\n"
          ]
        }
      ]
    }
  ]
}